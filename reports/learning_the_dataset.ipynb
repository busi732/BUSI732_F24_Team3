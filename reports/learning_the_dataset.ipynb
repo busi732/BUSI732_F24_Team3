{
 "cells": [
  {
   "cell_type": "markdown",
   "metadata": {},
   "source": [
    "`PLEASE USE THIS FILE TO LEARN MORE ABOUT THE DATASET`"
   ]
  },
  {
   "cell_type": "markdown",
   "metadata": {},
   "source": [
    "Types of faults\n",
    "\n",
    "- GF (Generator Heating Fault): Indicates overheating or related issues in the generator, which could suggest an overload or poor cooling in the generator unit.\n",
    "\n",
    "- MF (Mains Failure Fault): Reflects a failure in the main power supply, likely causing interruptions or necessitating backup power.\n",
    "\n",
    "- FF (Feeding Fault): Relates to issues in the feeding mechanism, which might impact fuel or resource input, affecting the system’s operation.\n",
    "\n",
    "- AF (Air Cooling Fault): Points to problems with air cooling, likely resulting in increased temperatures if the cooling system is ineffective.\n",
    "\n",
    "- EF (Excitation Fault): would typically relate to issues in the generator's excitation system, affecting voltage regulation."
   ]
  }
 ],
 "metadata": {
  "language_info": {
   "name": "python"
  }
 },
 "nbformat": 4,
 "nbformat_minor": 2
}
