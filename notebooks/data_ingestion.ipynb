{
 "cells": [
  {
   "cell_type": "code",
   "execution_count": 9,
   "metadata": {},
   "outputs": [],
   "source": [
    "import pandas as pd"
   ]
  },
  {
   "cell_type": "code",
   "execution_count": null,
   "metadata": {},
   "outputs": [],
   "source": [
    "def data_ingestion(file_path, sheet_names=None):\n",
    "    \"\"\"\n",
    "    Load data from a single or multiple sheets in an Excel file.\n",
    "\n",
    "    - This function reads Excel sheets and combines them into a single DataFrame.\n",
    "    - If sheet names are not provided, all sheets in the file will be loaded.\n",
    "    - Designed for loading price data with multiple monthly sheets.\n",
    "\n",
    "    Parameters:\n",
    "    ----------\n",
    "    file_path : str\n",
    "        The path to the Excel file containing the data.\n",
    "    sheet_names : list of str, optional\n",
    "        List of sheet names to load. If None, all sheets in the Excel file are loaded.\n",
    "\n",
    "    Returns:\n",
    "    -------\n",
    "    pandas.DataFrame\n",
    "        A DataFrame containing all combined data from the specified sheets.\n",
    "    \"\"\"\n",
    "    DATA_PATH = \"../data/raw/\"\n",
    "    file_path = DATA_PATH+file_path\n",
    "\n",
    "    if sheet_names is None:  # If no sheet names are provided, load all sheets\n",
    "        sheet_names = pd.ExcelFile(file_path).sheet_names\n",
    "\n",
    "    data_combined = pd.DataFrame()\n",
    "\n",
    "    for sheet in sheet_names:\n",
    "        try:\n",
    "            monthly_data = pd.read_excel(file_path, sheet_name=sheet)\n",
    "            data_combined = pd.concat([data_combined, monthly_data], ignore_index=True)\n",
    "        except Exception as e:\n",
    "            print(f\"Error loading sheet {sheet}: {e}\")\n",
    "\n",
    "    return data_combined"
   ]
  },
  {
   "cell_type": "markdown",
   "metadata": {},
   "source": [
    "## Testing the data ingestion function"
   ]
  },
  {
   "cell_type": "code",
   "execution_count": 11,
   "metadata": {},
   "outputs": [],
   "source": [
    "df = data_ingestion('scada_data.csv', \"DateTime\", '%m/%d/%Y %H:%M')\n",
    "df1 = data_ingestion('fault_data.csv', \"DateTime\", '%Y-%m-%d %H:%M')"
   ]
  },
  {
   "cell_type": "code",
   "execution_count": 12,
   "metadata": {},
   "outputs": [
    {
     "data": {
      "text/html": [
       "<div>\n",
       "<style scoped>\n",
       "    .dataframe tbody tr th:only-of-type {\n",
       "        vertical-align: middle;\n",
       "    }\n",
       "\n",
       "    .dataframe tbody tr th {\n",
       "        vertical-align: top;\n",
       "    }\n",
       "\n",
       "    .dataframe thead th {\n",
       "        text-align: right;\n",
       "    }\n",
       "</style>\n",
       "<table border=\"1\" class=\"dataframe\">\n",
       "  <thead>\n",
       "    <tr style=\"text-align: right;\">\n",
       "      <th></th>\n",
       "      <th>DateTime</th>\n",
       "      <th>Time</th>\n",
       "      <th>Fault</th>\n",
       "    </tr>\n",
       "  </thead>\n",
       "  <tbody>\n",
       "    <tr>\n",
       "      <th>0</th>\n",
       "      <td>2014-05-14 14:39:00</td>\n",
       "      <td>1.400096e+09</td>\n",
       "      <td>GF</td>\n",
       "    </tr>\n",
       "    <tr>\n",
       "      <th>1</th>\n",
       "      <td>2014-05-14 14:50:00</td>\n",
       "      <td>1.400097e+09</td>\n",
       "      <td>GF</td>\n",
       "    </tr>\n",
       "    <tr>\n",
       "      <th>2</th>\n",
       "      <td>2014-05-14 14:58:00</td>\n",
       "      <td>1.400098e+09</td>\n",
       "      <td>GF</td>\n",
       "    </tr>\n",
       "    <tr>\n",
       "      <th>3</th>\n",
       "      <td>2014-05-14 15:09:00</td>\n",
       "      <td>1.400098e+09</td>\n",
       "      <td>GF</td>\n",
       "    </tr>\n",
       "    <tr>\n",
       "      <th>4</th>\n",
       "      <td>2014-05-14 15:20:00</td>\n",
       "      <td>1.400099e+09</td>\n",
       "      <td>GF</td>\n",
       "    </tr>\n",
       "  </tbody>\n",
       "</table>\n",
       "</div>"
      ],
      "text/plain": [
       "             DateTime          Time Fault\n",
       "0 2014-05-14 14:39:00  1.400096e+09    GF\n",
       "1 2014-05-14 14:50:00  1.400097e+09    GF\n",
       "2 2014-05-14 14:58:00  1.400098e+09    GF\n",
       "3 2014-05-14 15:09:00  1.400098e+09    GF\n",
       "4 2014-05-14 15:20:00  1.400099e+09    GF"
      ]
     },
     "execution_count": 12,
     "metadata": {},
     "output_type": "execute_result"
    }
   ],
   "source": [
    "# Displaying the first 5 rows of the data\n",
    "#df.head(5)\n",
    "df1.head(5)"
   ]
  },
  {
   "cell_type": "code",
   "execution_count": null,
   "metadata": {},
   "outputs": [],
   "source": []
  }
 ],
 "metadata": {
  "kernelspec": {
   "display_name": "fu24_block2_team3_env",
   "language": "python",
   "name": "python3"
  },
  "language_info": {
   "codemirror_mode": {
    "name": "ipython",
    "version": 3
   },
   "file_extension": ".py",
   "mimetype": "text/x-python",
   "name": "python",
   "nbconvert_exporter": "python",
   "pygments_lexer": "ipython3",
   "version": "3.8.20"
  }
 },
 "nbformat": 4,
 "nbformat_minor": 2
}
