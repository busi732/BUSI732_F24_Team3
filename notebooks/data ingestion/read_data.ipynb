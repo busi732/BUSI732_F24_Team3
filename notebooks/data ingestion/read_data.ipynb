{
 "cells": [
  {
   "cell_type": "code",
   "execution_count": null,
   "metadata": {},
   "outputs": [],
   "source": [
    "import pandas as pd\n",
    "def read_data(data):\n",
    "    \"\"\" Reads CSV data file and outputs a Pandas DataFrame\"\"\"\n",
    "    df = pd.read_csv(data)\n",
    "    return df"
   ]
  }
 ],
 "metadata": {
  "kernelspec": {
   "display_name": "fu24_block2_team3_env",
   "language": "python",
   "name": "python3"
  },
  "language_info": {
   "name": "python",
   "version": "3.11.10"
  }
 },
 "nbformat": 4,
 "nbformat_minor": 2
}
