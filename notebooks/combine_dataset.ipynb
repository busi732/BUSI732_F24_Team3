{
 "cells": [
  {
   "cell_type": "code",
   "execution_count": 1,
   "metadata": {},
   "outputs": [],
   "source": [
    "import pandas as pd\n",
    "\n",
    "import sys\n",
    "import os\n",
    "\n",
    "# Add the src directory to the Python path\n",
    "sys.path.append(os.path.abspath(os.path.join(\"..\",\"src\")))\n",
    "\n",
    "from data_ingestion import data_ingestion as di"
   ]
  },
  {
   "cell_type": "code",
   "execution_count": 3,
   "metadata": {},
   "outputs": [],
   "source": [
    "# Combining SCADA Dataset with Fault_Data set to see what the sensor readings were when the fault occured\n",
    "\n",
    "# Importing the dataset: fault_data.csv\n",
    "fault_df = di(\"fault_data.csv\", \"DateTime\")\n",
    "\n",
    "# Importing the dataset: scada_data.csv\n",
    "scada_df = di(\"scada_data.csv\", \"DateTime\")"
   ]
  },
  {
   "cell_type": "code",
   "execution_count": null,
   "metadata": {},
   "outputs": [],
   "source": [
    "# Doing an inner joing to make sure that date and time data match for fault and scada dataset.\n",
    "combined_df = scada_df.merge(fault_df, on=\"DateTime\", how=\"right\")"
   ]
  }
 ],
 "metadata": {
  "kernelspec": {
   "display_name": "fu24_block2_team3_env",
   "language": "python",
   "name": "python3"
  },
  "language_info": {
   "codemirror_mode": {
    "name": "ipython",
    "version": 3
   },
   "file_extension": ".py",
   "mimetype": "text/x-python",
   "name": "python",
   "nbconvert_exporter": "python",
   "pygments_lexer": "ipython3",
   "version": "3.8.20"
  }
 },
 "nbformat": 4,
 "nbformat_minor": 2
}
