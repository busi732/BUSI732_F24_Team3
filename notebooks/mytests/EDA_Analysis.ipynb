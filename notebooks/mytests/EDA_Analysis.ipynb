{
 "cells": [
  {
   "cell_type": "markdown",
   "metadata": {},
   "source": [
    "### `Importing important libraries`"
   ]
  },
  {
   "cell_type": "code",
   "execution_count": 10,
   "metadata": {},
   "outputs": [],
   "source": [
    "import pandas as pd\n",
    "from matplotlib import pyplot as plt\n",
    "\n",
    "# setting pandas option\n",
    "pd.set_option(\"display.max_columns\", 66)"
   ]
  },
  {
   "cell_type": "markdown",
   "metadata": {},
   "source": [
    "### `Importing Raw Data and displaying few rows`"
   ]
  },
  {
   "cell_type": "markdown",
   "metadata": {},
   "source": [
    "##### *Fault Data*"
   ]
  },
  {
   "cell_type": "code",
   "execution_count": null,
   "metadata": {},
   "outputs": [
    {
     "data": {
      "text/plain": [
       "Fault\n",
       "FF    254\n",
       "EF    174\n",
       "AF     62\n",
       "GF     43\n",
       "MF     20\n",
       "Name: count, dtype: int64"
      ]
     },
     "execution_count": 40,
     "metadata": {},
     "output_type": "execute_result"
    }
   ],
   "source": [
    "fault_df = pd.read_csv(\"../../data/raw/fault_data.csv\")\n",
    "\n",
    "fault_df.head(5) # Displaying the first 5 rows\n",
    "\n",
    "fault_df['Fault'].value_counts()"
   ]
  },
  {
   "cell_type": "markdown",
   "metadata": {},
   "source": [
    "- gf: generator heating fault\n",
    "- mf: mains failure fault\n",
    "- ff: feeding fault\n",
    "- af: air cooling fault\n",
    "- ef: excitation fault"
   ]
  },
  {
   "cell_type": "markdown",
   "metadata": {},
   "source": [
    "##### *Scada Data*"
   ]
  },
  {
   "cell_type": "code",
   "execution_count": 16,
   "metadata": {},
   "outputs": [
    {
     "data": {
      "text/html": [
       "<div>\n",
       "<style scoped>\n",
       "    .dataframe tbody tr th:only-of-type {\n",
       "        vertical-align: middle;\n",
       "    }\n",
       "\n",
       "    .dataframe tbody tr th {\n",
       "        vertical-align: top;\n",
       "    }\n",
       "\n",
       "    .dataframe thead th {\n",
       "        text-align: right;\n",
       "    }\n",
       "</style>\n",
       "<table border=\"1\" class=\"dataframe\">\n",
       "  <thead>\n",
       "    <tr style=\"text-align: right;\">\n",
       "      <th></th>\n",
       "      <th>DateTime</th>\n",
       "      <th>Time</th>\n",
       "      <th>Error</th>\n",
       "      <th>WEC: ava. windspeed</th>\n",
       "      <th>WEC: max. windspeed</th>\n",
       "      <th>WEC: min. windspeed</th>\n",
       "      <th>WEC: ava. Rotation</th>\n",
       "      <th>WEC: max. Rotation</th>\n",
       "      <th>WEC: min. Rotation</th>\n",
       "      <th>WEC: ava. Power</th>\n",
       "      <th>WEC: max. Power</th>\n",
       "      <th>WEC: min. Power</th>\n",
       "      <th>WEC: ava. Nacel position including cable twisting</th>\n",
       "      <th>WEC: Operating Hours</th>\n",
       "      <th>WEC: Production kWh</th>\n",
       "      <th>WEC: Production minutes</th>\n",
       "      <th>WEC: ava. reactive Power</th>\n",
       "      <th>WEC: max. reactive Power</th>\n",
       "      <th>WEC: min. reactive Power</th>\n",
       "      <th>WEC: ava. available P from wind</th>\n",
       "      <th>WEC: ava. available P technical reasons</th>\n",
       "      <th>WEC: ava. Available P force majeure reasons</th>\n",
       "      <th>WEC: ava. Available P force external reasons</th>\n",
       "      <th>WEC: ava. blade angle A</th>\n",
       "      <th>Sys 1 inverter 1 cabinet temp.</th>\n",
       "      <th>Sys 1 inverter 2 cabinet temp.</th>\n",
       "      <th>Sys 1 inverter 3 cabinet temp.</th>\n",
       "      <th>Sys 1 inverter 4 cabinet temp.</th>\n",
       "      <th>Sys 1 inverter 5 cabinet temp.</th>\n",
       "      <th>Sys 1 inverter 6 cabinet temp.</th>\n",
       "      <th>Sys 1 inverter 7 cabinet temp.</th>\n",
       "      <th>Sys 2 inverter 1 cabinet temp.</th>\n",
       "      <th>Sys 2 inverter 2 cabinet temp.</th>\n",
       "      <th>Sys 2 inverter 3 cabinet temp.</th>\n",
       "      <th>Sys 2 inverter 4 cabinet temp.</th>\n",
       "      <th>Sys 2 inverter 5 cabinet temp.</th>\n",
       "      <th>Sys 2 inverter 6 cabinet temp.</th>\n",
       "      <th>Sys 2 inverter 7 cabinet temp.</th>\n",
       "      <th>Spinner temp.</th>\n",
       "      <th>Front bearing temp.</th>\n",
       "      <th>Rear bearing temp.</th>\n",
       "      <th>Pitch cabinet blade A temp.</th>\n",
       "      <th>Pitch cabinet blade B temp.</th>\n",
       "      <th>Pitch cabinet blade C temp.</th>\n",
       "      <th>Blade A temp.</th>\n",
       "      <th>Blade B temp.</th>\n",
       "      <th>Blade C temp.</th>\n",
       "      <th>Rotor temp. 1</th>\n",
       "      <th>Rotor temp. 2</th>\n",
       "      <th>Stator temp. 1</th>\n",
       "      <th>Stator temp. 2</th>\n",
       "      <th>Nacelle ambient temp. 1</th>\n",
       "      <th>Nacelle ambient temp. 2</th>\n",
       "      <th>Nacelle temp.</th>\n",
       "      <th>Nacelle cabinet temp.</th>\n",
       "      <th>Main carrier temp.</th>\n",
       "      <th>Rectifier cabinet temp.</th>\n",
       "      <th>Yaw inverter cabinet temp.</th>\n",
       "      <th>Fan inverter cabinet temp.</th>\n",
       "      <th>Ambient temp.</th>\n",
       "      <th>Tower temp.</th>\n",
       "      <th>Control cabinet temp.</th>\n",
       "      <th>Transformer temp.</th>\n",
       "      <th>RTU: ava. Setpoint 1</th>\n",
       "      <th>Inverter averages</th>\n",
       "      <th>Inverter std dev</th>\n",
       "    </tr>\n",
       "  </thead>\n",
       "  <tbody>\n",
       "    <tr>\n",
       "      <th>0</th>\n",
       "      <td>5/1/2014 0:00</td>\n",
       "      <td>1398920448</td>\n",
       "      <td>0</td>\n",
       "      <td>6.9</td>\n",
       "      <td>9.4</td>\n",
       "      <td>2.9</td>\n",
       "      <td>0.0</td>\n",
       "      <td>0.02</td>\n",
       "      <td>0.0</td>\n",
       "      <td>0</td>\n",
       "      <td>0</td>\n",
       "      <td>0</td>\n",
       "      <td>640</td>\n",
       "      <td>881</td>\n",
       "      <td>939053</td>\n",
       "      <td>6</td>\n",
       "      <td>0</td>\n",
       "      <td>0</td>\n",
       "      <td>0</td>\n",
       "      <td>838</td>\n",
       "      <td>0</td>\n",
       "      <td>838</td>\n",
       "      <td>838</td>\n",
       "      <td>91.959999</td>\n",
       "      <td>24</td>\n",
       "      <td>26</td>\n",
       "      <td>25</td>\n",
       "      <td>24</td>\n",
       "      <td>26</td>\n",
       "      <td>25</td>\n",
       "      <td>25</td>\n",
       "      <td>27</td>\n",
       "      <td>27</td>\n",
       "      <td>25</td>\n",
       "      <td>24</td>\n",
       "      <td>-14</td>\n",
       "      <td>0</td>\n",
       "      <td>-50</td>\n",
       "      <td>13</td>\n",
       "      <td>13</td>\n",
       "      <td>13</td>\n",
       "      <td>27</td>\n",
       "      <td>38</td>\n",
       "      <td>26</td>\n",
       "      <td>166</td>\n",
       "      <td>166</td>\n",
       "      <td>167</td>\n",
       "      <td>15</td>\n",
       "      <td>15</td>\n",
       "      <td>15</td>\n",
       "      <td>15</td>\n",
       "      <td>11</td>\n",
       "      <td>11</td>\n",
       "      <td>14</td>\n",
       "      <td>22</td>\n",
       "      <td>13</td>\n",
       "      <td>24</td>\n",
       "      <td>20</td>\n",
       "      <td>25</td>\n",
       "      <td>12</td>\n",
       "      <td>14</td>\n",
       "      <td>24</td>\n",
       "      <td>34</td>\n",
       "      <td>2501</td>\n",
       "      <td>25.272728</td>\n",
       "      <td>1.103713</td>\n",
       "    </tr>\n",
       "    <tr>\n",
       "      <th>1</th>\n",
       "      <td>5/1/2014 0:09</td>\n",
       "      <td>1398920960</td>\n",
       "      <td>0</td>\n",
       "      <td>5.3</td>\n",
       "      <td>8.9</td>\n",
       "      <td>1.6</td>\n",
       "      <td>0.0</td>\n",
       "      <td>0.01</td>\n",
       "      <td>0.0</td>\n",
       "      <td>0</td>\n",
       "      <td>0</td>\n",
       "      <td>0</td>\n",
       "      <td>640</td>\n",
       "      <td>881</td>\n",
       "      <td>939053</td>\n",
       "      <td>6</td>\n",
       "      <td>0</td>\n",
       "      <td>0</td>\n",
       "      <td>0</td>\n",
       "      <td>443</td>\n",
       "      <td>0</td>\n",
       "      <td>443</td>\n",
       "      <td>443</td>\n",
       "      <td>91.959999</td>\n",
       "      <td>24</td>\n",
       "      <td>26</td>\n",
       "      <td>25</td>\n",
       "      <td>24</td>\n",
       "      <td>26</td>\n",
       "      <td>25</td>\n",
       "      <td>25</td>\n",
       "      <td>27</td>\n",
       "      <td>27</td>\n",
       "      <td>25</td>\n",
       "      <td>24</td>\n",
       "      <td>-14</td>\n",
       "      <td>0</td>\n",
       "      <td>-50</td>\n",
       "      <td>13</td>\n",
       "      <td>13</td>\n",
       "      <td>13</td>\n",
       "      <td>27</td>\n",
       "      <td>38</td>\n",
       "      <td>26</td>\n",
       "      <td>166</td>\n",
       "      <td>166</td>\n",
       "      <td>167</td>\n",
       "      <td>15</td>\n",
       "      <td>15</td>\n",
       "      <td>15</td>\n",
       "      <td>15</td>\n",
       "      <td>11</td>\n",
       "      <td>11</td>\n",
       "      <td>13</td>\n",
       "      <td>21</td>\n",
       "      <td>13</td>\n",
       "      <td>24</td>\n",
       "      <td>20</td>\n",
       "      <td>25</td>\n",
       "      <td>12</td>\n",
       "      <td>14</td>\n",
       "      <td>24</td>\n",
       "      <td>34</td>\n",
       "      <td>2501</td>\n",
       "      <td>25.272728</td>\n",
       "      <td>1.103713</td>\n",
       "    </tr>\n",
       "    <tr>\n",
       "      <th>2</th>\n",
       "      <td>5/1/2014 0:20</td>\n",
       "      <td>1398921600</td>\n",
       "      <td>0</td>\n",
       "      <td>5.0</td>\n",
       "      <td>9.5</td>\n",
       "      <td>1.4</td>\n",
       "      <td>0.0</td>\n",
       "      <td>0.04</td>\n",
       "      <td>0.0</td>\n",
       "      <td>0</td>\n",
       "      <td>0</td>\n",
       "      <td>0</td>\n",
       "      <td>640</td>\n",
       "      <td>881</td>\n",
       "      <td>939053</td>\n",
       "      <td>6</td>\n",
       "      <td>0</td>\n",
       "      <td>0</td>\n",
       "      <td>0</td>\n",
       "      <td>525</td>\n",
       "      <td>0</td>\n",
       "      <td>525</td>\n",
       "      <td>525</td>\n",
       "      <td>91.940002</td>\n",
       "      <td>24</td>\n",
       "      <td>26</td>\n",
       "      <td>25</td>\n",
       "      <td>24</td>\n",
       "      <td>26</td>\n",
       "      <td>25</td>\n",
       "      <td>25</td>\n",
       "      <td>27</td>\n",
       "      <td>27</td>\n",
       "      <td>25</td>\n",
       "      <td>24</td>\n",
       "      <td>-14</td>\n",
       "      <td>0</td>\n",
       "      <td>-50</td>\n",
       "      <td>13</td>\n",
       "      <td>13</td>\n",
       "      <td>13</td>\n",
       "      <td>26</td>\n",
       "      <td>37</td>\n",
       "      <td>27</td>\n",
       "      <td>166</td>\n",
       "      <td>166</td>\n",
       "      <td>167</td>\n",
       "      <td>15</td>\n",
       "      <td>15</td>\n",
       "      <td>15</td>\n",
       "      <td>15</td>\n",
       "      <td>11</td>\n",
       "      <td>11</td>\n",
       "      <td>13</td>\n",
       "      <td>21</td>\n",
       "      <td>13</td>\n",
       "      <td>24</td>\n",
       "      <td>20</td>\n",
       "      <td>25</td>\n",
       "      <td>12</td>\n",
       "      <td>14</td>\n",
       "      <td>24</td>\n",
       "      <td>34</td>\n",
       "      <td>2501</td>\n",
       "      <td>25.272728</td>\n",
       "      <td>1.103713</td>\n",
       "    </tr>\n",
       "    <tr>\n",
       "      <th>3</th>\n",
       "      <td>5/1/2014 0:30</td>\n",
       "      <td>1398922240</td>\n",
       "      <td>0</td>\n",
       "      <td>4.4</td>\n",
       "      <td>8.3</td>\n",
       "      <td>1.3</td>\n",
       "      <td>0.0</td>\n",
       "      <td>0.08</td>\n",
       "      <td>0.0</td>\n",
       "      <td>0</td>\n",
       "      <td>0</td>\n",
       "      <td>0</td>\n",
       "      <td>641</td>\n",
       "      <td>881</td>\n",
       "      <td>939053</td>\n",
       "      <td>6</td>\n",
       "      <td>0</td>\n",
       "      <td>0</td>\n",
       "      <td>0</td>\n",
       "      <td>250</td>\n",
       "      <td>0</td>\n",
       "      <td>250</td>\n",
       "      <td>250</td>\n",
       "      <td>91.949997</td>\n",
       "      <td>24</td>\n",
       "      <td>26</td>\n",
       "      <td>25</td>\n",
       "      <td>24</td>\n",
       "      <td>26</td>\n",
       "      <td>25</td>\n",
       "      <td>25</td>\n",
       "      <td>27</td>\n",
       "      <td>27</td>\n",
       "      <td>25</td>\n",
       "      <td>24</td>\n",
       "      <td>-14</td>\n",
       "      <td>0</td>\n",
       "      <td>-50</td>\n",
       "      <td>13</td>\n",
       "      <td>13</td>\n",
       "      <td>13</td>\n",
       "      <td>26</td>\n",
       "      <td>33</td>\n",
       "      <td>31</td>\n",
       "      <td>166</td>\n",
       "      <td>166</td>\n",
       "      <td>167</td>\n",
       "      <td>15</td>\n",
       "      <td>15</td>\n",
       "      <td>15</td>\n",
       "      <td>15</td>\n",
       "      <td>11</td>\n",
       "      <td>11</td>\n",
       "      <td>13</td>\n",
       "      <td>20</td>\n",
       "      <td>13</td>\n",
       "      <td>23</td>\n",
       "      <td>21</td>\n",
       "      <td>25</td>\n",
       "      <td>12</td>\n",
       "      <td>14</td>\n",
       "      <td>24</td>\n",
       "      <td>34</td>\n",
       "      <td>2501</td>\n",
       "      <td>25.272728</td>\n",
       "      <td>1.103713</td>\n",
       "    </tr>\n",
       "    <tr>\n",
       "      <th>4</th>\n",
       "      <td>5/1/2014 0:39</td>\n",
       "      <td>1398922752</td>\n",
       "      <td>0</td>\n",
       "      <td>5.7</td>\n",
       "      <td>9.7</td>\n",
       "      <td>1.2</td>\n",
       "      <td>0.0</td>\n",
       "      <td>0.05</td>\n",
       "      <td>0.0</td>\n",
       "      <td>0</td>\n",
       "      <td>0</td>\n",
       "      <td>0</td>\n",
       "      <td>633</td>\n",
       "      <td>881</td>\n",
       "      <td>939053</td>\n",
       "      <td>6</td>\n",
       "      <td>0</td>\n",
       "      <td>0</td>\n",
       "      <td>0</td>\n",
       "      <td>549</td>\n",
       "      <td>0</td>\n",
       "      <td>549</td>\n",
       "      <td>549</td>\n",
       "      <td>91.940002</td>\n",
       "      <td>24</td>\n",
       "      <td>26</td>\n",
       "      <td>25</td>\n",
       "      <td>24</td>\n",
       "      <td>26</td>\n",
       "      <td>25</td>\n",
       "      <td>25</td>\n",
       "      <td>27</td>\n",
       "      <td>27</td>\n",
       "      <td>25</td>\n",
       "      <td>24</td>\n",
       "      <td>-14</td>\n",
       "      <td>0</td>\n",
       "      <td>-50</td>\n",
       "      <td>13</td>\n",
       "      <td>13</td>\n",
       "      <td>13</td>\n",
       "      <td>28</td>\n",
       "      <td>29</td>\n",
       "      <td>34</td>\n",
       "      <td>166</td>\n",
       "      <td>166</td>\n",
       "      <td>167</td>\n",
       "      <td>15</td>\n",
       "      <td>15</td>\n",
       "      <td>15</td>\n",
       "      <td>15</td>\n",
       "      <td>11</td>\n",
       "      <td>11</td>\n",
       "      <td>13</td>\n",
       "      <td>20</td>\n",
       "      <td>13</td>\n",
       "      <td>23</td>\n",
       "      <td>21</td>\n",
       "      <td>25</td>\n",
       "      <td>12</td>\n",
       "      <td>14</td>\n",
       "      <td>23</td>\n",
       "      <td>34</td>\n",
       "      <td>2501</td>\n",
       "      <td>25.272728</td>\n",
       "      <td>1.103713</td>\n",
       "    </tr>\n",
       "  </tbody>\n",
       "</table>\n",
       "</div>"
      ],
      "text/plain": [
       "        DateTime        Time  Error  WEC: ava. windspeed  WEC: max. windspeed  \\\n",
       "0  5/1/2014 0:00  1398920448      0                  6.9                  9.4   \n",
       "1  5/1/2014 0:09  1398920960      0                  5.3                  8.9   \n",
       "2  5/1/2014 0:20  1398921600      0                  5.0                  9.5   \n",
       "3  5/1/2014 0:30  1398922240      0                  4.4                  8.3   \n",
       "4  5/1/2014 0:39  1398922752      0                  5.7                  9.7   \n",
       "\n",
       "   WEC: min. windspeed  WEC: ava. Rotation  WEC: max. Rotation  \\\n",
       "0                  2.9                 0.0                0.02   \n",
       "1                  1.6                 0.0                0.01   \n",
       "2                  1.4                 0.0                0.04   \n",
       "3                  1.3                 0.0                0.08   \n",
       "4                  1.2                 0.0                0.05   \n",
       "\n",
       "   WEC: min. Rotation  WEC: ava. Power  WEC: max. Power  WEC: min. Power  \\\n",
       "0                 0.0                0                0                0   \n",
       "1                 0.0                0                0                0   \n",
       "2                 0.0                0                0                0   \n",
       "3                 0.0                0                0                0   \n",
       "4                 0.0                0                0                0   \n",
       "\n",
       "   WEC: ava. Nacel position including cable twisting  WEC: Operating Hours  \\\n",
       "0                                                640                   881   \n",
       "1                                                640                   881   \n",
       "2                                                640                   881   \n",
       "3                                                641                   881   \n",
       "4                                                633                   881   \n",
       "\n",
       "   WEC: Production kWh  WEC: Production minutes  WEC: ava. reactive Power  \\\n",
       "0               939053                        6                         0   \n",
       "1               939053                        6                         0   \n",
       "2               939053                        6                         0   \n",
       "3               939053                        6                         0   \n",
       "4               939053                        6                         0   \n",
       "\n",
       "   WEC: max. reactive Power  WEC: min. reactive Power  \\\n",
       "0                         0                         0   \n",
       "1                         0                         0   \n",
       "2                         0                         0   \n",
       "3                         0                         0   \n",
       "4                         0                         0   \n",
       "\n",
       "   WEC: ava. available P from wind  WEC: ava. available P technical reasons  \\\n",
       "0                              838                                        0   \n",
       "1                              443                                        0   \n",
       "2                              525                                        0   \n",
       "3                              250                                        0   \n",
       "4                              549                                        0   \n",
       "\n",
       "   WEC: ava. Available P force majeure reasons  \\\n",
       "0                                          838   \n",
       "1                                          443   \n",
       "2                                          525   \n",
       "3                                          250   \n",
       "4                                          549   \n",
       "\n",
       "   WEC: ava. Available P force external reasons  WEC: ava. blade angle A  \\\n",
       "0                                           838                91.959999   \n",
       "1                                           443                91.959999   \n",
       "2                                           525                91.940002   \n",
       "3                                           250                91.949997   \n",
       "4                                           549                91.940002   \n",
       "\n",
       "   Sys 1 inverter 1 cabinet temp.  Sys 1 inverter 2 cabinet temp.  \\\n",
       "0                              24                              26   \n",
       "1                              24                              26   \n",
       "2                              24                              26   \n",
       "3                              24                              26   \n",
       "4                              24                              26   \n",
       "\n",
       "   Sys 1 inverter 3 cabinet temp.  Sys 1 inverter 4 cabinet temp.  \\\n",
       "0                              25                              24   \n",
       "1                              25                              24   \n",
       "2                              25                              24   \n",
       "3                              25                              24   \n",
       "4                              25                              24   \n",
       "\n",
       "   Sys 1 inverter 5 cabinet temp.  Sys 1 inverter 6 cabinet temp.  \\\n",
       "0                              26                              25   \n",
       "1                              26                              25   \n",
       "2                              26                              25   \n",
       "3                              26                              25   \n",
       "4                              26                              25   \n",
       "\n",
       "   Sys 1 inverter 7 cabinet temp.  Sys 2 inverter 1 cabinet temp.  \\\n",
       "0                              25                              27   \n",
       "1                              25                              27   \n",
       "2                              25                              27   \n",
       "3                              25                              27   \n",
       "4                              25                              27   \n",
       "\n",
       "   Sys 2 inverter 2 cabinet temp.  Sys 2 inverter 3 cabinet temp.  \\\n",
       "0                              27                              25   \n",
       "1                              27                              25   \n",
       "2                              27                              25   \n",
       "3                              27                              25   \n",
       "4                              27                              25   \n",
       "\n",
       "   Sys 2 inverter 4 cabinet temp.  Sys 2 inverter 5 cabinet temp.  \\\n",
       "0                              24                             -14   \n",
       "1                              24                             -14   \n",
       "2                              24                             -14   \n",
       "3                              24                             -14   \n",
       "4                              24                             -14   \n",
       "\n",
       "   Sys 2 inverter 6 cabinet temp.  Sys 2 inverter 7 cabinet temp.  \\\n",
       "0                               0                             -50   \n",
       "1                               0                             -50   \n",
       "2                               0                             -50   \n",
       "3                               0                             -50   \n",
       "4                               0                             -50   \n",
       "\n",
       "   Spinner temp.  Front bearing temp.  Rear bearing temp.  \\\n",
       "0             13                   13                  13   \n",
       "1             13                   13                  13   \n",
       "2             13                   13                  13   \n",
       "3             13                   13                  13   \n",
       "4             13                   13                  13   \n",
       "\n",
       "   Pitch cabinet blade A temp.  Pitch cabinet blade B temp.  \\\n",
       "0                           27                           38   \n",
       "1                           27                           38   \n",
       "2                           26                           37   \n",
       "3                           26                           33   \n",
       "4                           28                           29   \n",
       "\n",
       "   Pitch cabinet blade C temp.  Blade A temp.  Blade B temp.  Blade C temp.  \\\n",
       "0                           26            166            166            167   \n",
       "1                           26            166            166            167   \n",
       "2                           27            166            166            167   \n",
       "3                           31            166            166            167   \n",
       "4                           34            166            166            167   \n",
       "\n",
       "   Rotor temp. 1  Rotor temp. 2  Stator temp. 1  Stator temp. 2  \\\n",
       "0             15             15              15              15   \n",
       "1             15             15              15              15   \n",
       "2             15             15              15              15   \n",
       "3             15             15              15              15   \n",
       "4             15             15              15              15   \n",
       "\n",
       "   Nacelle ambient temp. 1  Nacelle ambient temp. 2  Nacelle temp.  \\\n",
       "0                       11                       11             14   \n",
       "1                       11                       11             13   \n",
       "2                       11                       11             13   \n",
       "3                       11                       11             13   \n",
       "4                       11                       11             13   \n",
       "\n",
       "   Nacelle cabinet temp.  Main carrier temp.  Rectifier cabinet temp.  \\\n",
       "0                     22                  13                       24   \n",
       "1                     21                  13                       24   \n",
       "2                     21                  13                       24   \n",
       "3                     20                  13                       23   \n",
       "4                     20                  13                       23   \n",
       "\n",
       "   Yaw inverter cabinet temp.  Fan inverter cabinet temp.  Ambient temp.  \\\n",
       "0                          20                          25             12   \n",
       "1                          20                          25             12   \n",
       "2                          20                          25             12   \n",
       "3                          21                          25             12   \n",
       "4                          21                          25             12   \n",
       "\n",
       "   Tower temp.  Control cabinet temp.  Transformer temp.  \\\n",
       "0           14                     24                 34   \n",
       "1           14                     24                 34   \n",
       "2           14                     24                 34   \n",
       "3           14                     24                 34   \n",
       "4           14                     23                 34   \n",
       "\n",
       "   RTU: ava. Setpoint 1  Inverter averages  Inverter std dev  \n",
       "0                  2501          25.272728          1.103713  \n",
       "1                  2501          25.272728          1.103713  \n",
       "2                  2501          25.272728          1.103713  \n",
       "3                  2501          25.272728          1.103713  \n",
       "4                  2501          25.272728          1.103713  "
      ]
     },
     "execution_count": 16,
     "metadata": {},
     "output_type": "execute_result"
    }
   ],
   "source": [
    "scada_df = pd.read_csv('../../data/raw/scada_data.csv')\n",
    "\n",
    "scada_df.head(5) # Displaying the first 5 rows"
   ]
  },
  {
   "cell_type": "markdown",
   "metadata": {},
   "source": [
    "##### *Status Data*"
   ]
  },
  {
   "cell_type": "code",
   "execution_count": 17,
   "metadata": {},
   "outputs": [
    {
     "data": {
      "text/html": [
       "<div>\n",
       "<style scoped>\n",
       "    .dataframe tbody tr th:only-of-type {\n",
       "        vertical-align: middle;\n",
       "    }\n",
       "\n",
       "    .dataframe tbody tr th {\n",
       "        vertical-align: top;\n",
       "    }\n",
       "\n",
       "    .dataframe thead th {\n",
       "        text-align: right;\n",
       "    }\n",
       "</style>\n",
       "<table border=\"1\" class=\"dataframe\">\n",
       "  <thead>\n",
       "    <tr style=\"text-align: right;\">\n",
       "      <th></th>\n",
       "      <th>Time</th>\n",
       "      <th>Main Status</th>\n",
       "      <th>Sub Status</th>\n",
       "      <th>Full Status</th>\n",
       "      <th>Status Text</th>\n",
       "      <th>T</th>\n",
       "      <th>Service</th>\n",
       "      <th>FaultMsg</th>\n",
       "      <th>Value0</th>\n",
       "    </tr>\n",
       "  </thead>\n",
       "  <tbody>\n",
       "    <tr>\n",
       "      <th>0</th>\n",
       "      <td>24/04/2014 12:37:38</td>\n",
       "      <td>0</td>\n",
       "      <td>0</td>\n",
       "      <td>0 : 0</td>\n",
       "      <td>Turbine in operation</td>\n",
       "      <td>1</td>\n",
       "      <td>False</td>\n",
       "      <td>False</td>\n",
       "      <td>7.4</td>\n",
       "    </tr>\n",
       "    <tr>\n",
       "      <th>1</th>\n",
       "      <td>25/04/2014 19:27:24</td>\n",
       "      <td>71</td>\n",
       "      <td>104</td>\n",
       "      <td>71 : 104</td>\n",
       "      <td>Insulation monitoring : Insulation fault Phase U2</td>\n",
       "      <td>6</td>\n",
       "      <td>False</td>\n",
       "      <td>True</td>\n",
       "      <td>20.5</td>\n",
       "    </tr>\n",
       "    <tr>\n",
       "      <th>2</th>\n",
       "      <td>26/04/2014 09:30:13</td>\n",
       "      <td>8</td>\n",
       "      <td>0</td>\n",
       "      <td>8 : 0</td>\n",
       "      <td>Maintenance</td>\n",
       "      <td>6</td>\n",
       "      <td>True</td>\n",
       "      <td>False</td>\n",
       "      <td>17.1</td>\n",
       "    </tr>\n",
       "    <tr>\n",
       "      <th>3</th>\n",
       "      <td>26/04/2014 10:05:19</td>\n",
       "      <td>8</td>\n",
       "      <td>0</td>\n",
       "      <td>8 : 0</td>\n",
       "      <td>Maintenance</td>\n",
       "      <td>6</td>\n",
       "      <td>False</td>\n",
       "      <td>False</td>\n",
       "      <td>8.7</td>\n",
       "    </tr>\n",
       "    <tr>\n",
       "      <th>4</th>\n",
       "      <td>26/04/2014 10:05:25</td>\n",
       "      <td>8</td>\n",
       "      <td>0</td>\n",
       "      <td>8 : 0</td>\n",
       "      <td>Maintenance</td>\n",
       "      <td>6</td>\n",
       "      <td>True</td>\n",
       "      <td>False</td>\n",
       "      <td>10.6</td>\n",
       "    </tr>\n",
       "  </tbody>\n",
       "</table>\n",
       "</div>"
      ],
      "text/plain": [
       "                  Time  Main Status  Sub Status Full Status  \\\n",
       "0  24/04/2014 12:37:38            0           0       0 : 0   \n",
       "1  25/04/2014 19:27:24           71         104    71 : 104   \n",
       "2  26/04/2014 09:30:13            8           0       8 : 0   \n",
       "3  26/04/2014 10:05:19            8           0       8 : 0   \n",
       "4  26/04/2014 10:05:25            8           0       8 : 0   \n",
       "\n",
       "                                         Status Text  T  Service  FaultMsg  \\\n",
       "0                               Turbine in operation  1    False     False   \n",
       "1  Insulation monitoring : Insulation fault Phase U2  6    False      True   \n",
       "2                                        Maintenance  6     True     False   \n",
       "3                                        Maintenance  6    False     False   \n",
       "4                                        Maintenance  6     True     False   \n",
       "\n",
       "   Value0  \n",
       "0     7.4  \n",
       "1    20.5  \n",
       "2    17.1  \n",
       "3     8.7  \n",
       "4    10.6  "
      ]
     },
     "execution_count": 17,
     "metadata": {},
     "output_type": "execute_result"
    }
   ],
   "source": [
    "status_df = pd.read_csv('../../data/raw/status_data.csv')\n",
    "\n",
    "status_df.head(5) # Displaying the first 5 rows"
   ]
  },
  {
   "cell_type": "markdown",
   "metadata": {},
   "source": [
    "### `Basic summary of the imported data`"
   ]
  },
  {
   "cell_type": "markdown",
   "metadata": {},
   "source": [
    "#### *Fault Dataset*"
   ]
  },
  {
   "cell_type": "markdown",
   "metadata": {},
   "source": [
    "##### *Shape of the dataset*"
   ]
  },
  {
   "cell_type": "code",
   "execution_count": 18,
   "metadata": {},
   "outputs": [
    {
     "data": {
      "text/plain": [
       "(553, 3)"
      ]
     },
     "execution_count": 18,
     "metadata": {},
     "output_type": "execute_result"
    }
   ],
   "source": [
    "fault_df.shape"
   ]
  },
  {
   "cell_type": "markdown",
   "metadata": {},
   "source": [
    "The fault dataset has:\n",
    "\n",
    "- 3 columns\n",
    "- 533 rows of information"
   ]
  },
  {
   "cell_type": "markdown",
   "metadata": {},
   "source": [
    "##### *Column types*"
   ]
  },
  {
   "cell_type": "code",
   "execution_count": 22,
   "metadata": {},
   "outputs": [
    {
     "name": "stdout",
     "output_type": "stream",
     "text": [
      "<class 'pandas.core.frame.DataFrame'>\n",
      "RangeIndex: 553 entries, 0 to 552\n",
      "Data columns (total 3 columns):\n",
      " #   Column    Non-Null Count  Dtype  \n",
      "---  ------    --------------  -----  \n",
      " 0   DateTime  553 non-null    object \n",
      " 1   Time      553 non-null    float64\n",
      " 2   Fault     553 non-null    object \n",
      "dtypes: float64(1), object(2)\n",
      "memory usage: 13.1+ KB\n"
     ]
    }
   ],
   "source": [
    "fault_df.info()"
   ]
  },
  {
   "cell_type": "markdown",
   "metadata": {},
   "source": [
    "The fault dataset has a column called \"DataTime\" which is of object type. This column will have to be converted into datatime dtype."
   ]
  },
  {
   "cell_type": "markdown",
   "metadata": {},
   "source": [
    "##### *Any Duplicates?*"
   ]
  },
  {
   "cell_type": "code",
   "execution_count": 24,
   "metadata": {},
   "outputs": [
    {
     "data": {
      "text/plain": [
       "0"
      ]
     },
     "execution_count": 24,
     "metadata": {},
     "output_type": "execute_result"
    }
   ],
   "source": [
    "fault_df.duplicated().sum()"
   ]
  },
  {
   "cell_type": "markdown",
   "metadata": {},
   "source": [
    "No duplicated data in the fault dataset"
   ]
  },
  {
   "cell_type": "markdown",
   "metadata": {},
   "source": [
    "##### *Any Missing Data?*"
   ]
  },
  {
   "cell_type": "code",
   "execution_count": 25,
   "metadata": {},
   "outputs": [
    {
     "data": {
      "text/plain": [
       "DateTime    0\n",
       "Time        0\n",
       "Fault       0\n",
       "dtype: int64"
      ]
     },
     "execution_count": 25,
     "metadata": {},
     "output_type": "execute_result"
    }
   ],
   "source": [
    "fault_df.isna().sum()"
   ]
  },
  {
   "cell_type": "markdown",
   "metadata": {},
   "source": [
    "No missing data in our fault dataset"
   ]
  },
  {
   "cell_type": "markdown",
   "metadata": {},
   "source": [
    "#### *Scada Dataset*"
   ]
  },
  {
   "cell_type": "markdown",
   "metadata": {},
   "source": [
    "##### *Shape of the dataset*"
   ]
  },
  {
   "cell_type": "code",
   "execution_count": 19,
   "metadata": {},
   "outputs": [
    {
     "data": {
      "text/plain": [
       "(49027, 66)"
      ]
     },
     "execution_count": 19,
     "metadata": {},
     "output_type": "execute_result"
    }
   ],
   "source": [
    "scada_df.shape"
   ]
  },
  {
   "cell_type": "markdown",
   "metadata": {},
   "source": [
    "The scada dataset has:\n",
    "\n",
    "- 66 columns\n",
    "- 49,027 rows of information"
   ]
  },
  {
   "cell_type": "markdown",
   "metadata": {},
   "source": [
    "##### *Column types*"
   ]
  },
  {
   "cell_type": "code",
   "execution_count": 21,
   "metadata": {},
   "outputs": [
    {
     "name": "stdout",
     "output_type": "stream",
     "text": [
      "<class 'pandas.core.frame.DataFrame'>\n",
      "RangeIndex: 49027 entries, 0 to 49026\n",
      "Data columns (total 66 columns):\n",
      " #   Column                                             Non-Null Count  Dtype  \n",
      "---  ------                                             --------------  -----  \n",
      " 0   DateTime                                           49027 non-null  object \n",
      " 1   Time                                               49027 non-null  int64  \n",
      " 2   Error                                              49027 non-null  int64  \n",
      " 3   WEC: ava. windspeed                                49027 non-null  float64\n",
      " 4   WEC: max. windspeed                                49027 non-null  float64\n",
      " 5   WEC: min. windspeed                                49027 non-null  float64\n",
      " 6   WEC: ava. Rotation                                 49027 non-null  float64\n",
      " 7   WEC: max. Rotation                                 49027 non-null  float64\n",
      " 8   WEC: min. Rotation                                 49027 non-null  float64\n",
      " 9   WEC: ava. Power                                    49027 non-null  int64  \n",
      " 10  WEC: max. Power                                    49027 non-null  int64  \n",
      " 11  WEC: min. Power                                    49027 non-null  int64  \n",
      " 12  WEC: ava. Nacel position including cable twisting  49027 non-null  int64  \n",
      " 13  WEC: Operating Hours                               49027 non-null  int64  \n",
      " 14  WEC: Production kWh                                49027 non-null  int64  \n",
      " 15  WEC: Production minutes                            49027 non-null  int64  \n",
      " 16  WEC: ava. reactive Power                           49027 non-null  int64  \n",
      " 17  WEC: max. reactive Power                           49027 non-null  int64  \n",
      " 18  WEC: min. reactive Power                           49027 non-null  int64  \n",
      " 19  WEC: ava. available P from wind                    49027 non-null  int64  \n",
      " 20  WEC: ava. available P technical reasons            49027 non-null  int64  \n",
      " 21  WEC: ava. Available P force majeure reasons        49027 non-null  int64  \n",
      " 22  WEC: ava. Available P force external reasons       49027 non-null  int64  \n",
      " 23  WEC: ava. blade angle A                            49027 non-null  float64\n",
      " 24  Sys 1 inverter 1 cabinet temp.                     49027 non-null  int64  \n",
      " 25  Sys 1 inverter 2 cabinet temp.                     49027 non-null  int64  \n",
      " 26  Sys 1 inverter 3 cabinet temp.                     49027 non-null  int64  \n",
      " 27  Sys 1 inverter 4 cabinet temp.                     49027 non-null  int64  \n",
      " 28  Sys 1 inverter 5 cabinet temp.                     49027 non-null  int64  \n",
      " 29  Sys 1 inverter 6 cabinet temp.                     49027 non-null  int64  \n",
      " 30  Sys 1 inverter 7 cabinet temp.                     49027 non-null  int64  \n",
      " 31  Sys 2 inverter 1 cabinet temp.                     49027 non-null  int64  \n",
      " 32  Sys 2 inverter 2 cabinet temp.                     49027 non-null  int64  \n",
      " 33  Sys 2 inverter 3 cabinet temp.                     49027 non-null  int64  \n",
      " 34  Sys 2 inverter 4 cabinet temp.                     49027 non-null  int64  \n",
      " 35  Sys 2 inverter 5 cabinet temp.                     49027 non-null  int64  \n",
      " 36  Sys 2 inverter 6 cabinet temp.                     49027 non-null  int64  \n",
      " 37  Sys 2 inverter 7 cabinet temp.                     49027 non-null  int64  \n",
      " 38  Spinner temp.                                      49027 non-null  int64  \n",
      " 39  Front bearing temp.                                49027 non-null  int64  \n",
      " 40  Rear bearing temp.                                 49027 non-null  int64  \n",
      " 41  Pitch cabinet blade A temp.                        49027 non-null  int64  \n",
      " 42  Pitch cabinet blade B temp.                        49027 non-null  int64  \n",
      " 43  Pitch cabinet blade C temp.                        49027 non-null  int64  \n",
      " 44  Blade A temp.                                      49027 non-null  int64  \n",
      " 45  Blade B temp.                                      49027 non-null  int64  \n",
      " 46  Blade C temp.                                      49027 non-null  int64  \n",
      " 47  Rotor temp. 1                                      49027 non-null  int64  \n",
      " 48  Rotor temp. 2                                      49027 non-null  int64  \n",
      " 49  Stator temp. 1                                     49027 non-null  int64  \n",
      " 50  Stator temp. 2                                     49027 non-null  int64  \n",
      " 51  Nacelle ambient temp. 1                            49027 non-null  int64  \n",
      " 52  Nacelle ambient temp. 2                            49027 non-null  int64  \n",
      " 53  Nacelle temp.                                      49027 non-null  int64  \n",
      " 54  Nacelle cabinet temp.                              49027 non-null  int64  \n",
      " 55  Main carrier temp.                                 49027 non-null  int64  \n",
      " 56  Rectifier cabinet temp.                            49027 non-null  int64  \n",
      " 57  Yaw inverter cabinet temp.                         49027 non-null  int64  \n",
      " 58  Fan inverter cabinet temp.                         49027 non-null  int64  \n",
      " 59  Ambient temp.                                      49027 non-null  int64  \n",
      " 60  Tower temp.                                        49027 non-null  int64  \n",
      " 61  Control cabinet temp.                              49027 non-null  int64  \n",
      " 62  Transformer temp.                                  49027 non-null  int64  \n",
      " 63  RTU: ava. Setpoint 1                               49027 non-null  int64  \n",
      " 64  Inverter averages                                  49027 non-null  float64\n",
      " 65  Inverter std dev                                   49027 non-null  float64\n",
      "dtypes: float64(9), int64(56), object(1)\n",
      "memory usage: 24.7+ MB\n"
     ]
    }
   ],
   "source": [
    "scada_df.info()"
   ]
  },
  {
   "cell_type": "markdown",
   "metadata": {},
   "source": [
    "Similarly like the fault dataset, the \"DateTime\" column in scada dataset will need to be converted into datetime format. Also, this dataset has a \"Time\" column will also be needed to convert into a time format."
   ]
  },
  {
   "cell_type": "markdown",
   "metadata": {},
   "source": [
    "##### *Any Duplicates?*"
   ]
  },
  {
   "cell_type": "code",
   "execution_count": 30,
   "metadata": {},
   "outputs": [
    {
     "data": {
      "text/plain": [
       "0"
      ]
     },
     "execution_count": 30,
     "metadata": {},
     "output_type": "execute_result"
    }
   ],
   "source": [
    "scada_df.duplicated().sum()"
   ]
  },
  {
   "cell_type": "markdown",
   "metadata": {},
   "source": [
    "There are no duplicates in the scada dataset"
   ]
  },
  {
   "cell_type": "markdown",
   "metadata": {},
   "source": [
    "##### *Any Missing Data?*"
   ]
  },
  {
   "cell_type": "code",
   "execution_count": 33,
   "metadata": {},
   "outputs": [
    {
     "data": {
      "text/plain": [
       "DateTime                 0\n",
       "Time                     0\n",
       "Error                    0\n",
       "WEC: ava. windspeed      0\n",
       "WEC: max. windspeed      0\n",
       "                        ..\n",
       "Control cabinet temp.    0\n",
       "Transformer temp.        0\n",
       "RTU: ava. Setpoint 1     0\n",
       "Inverter averages        0\n",
       "Inverter std dev         0\n",
       "Length: 66, dtype: int64"
      ]
     },
     "execution_count": 33,
     "metadata": {},
     "output_type": "execute_result"
    }
   ],
   "source": [
    "scada_df.isna().sum()"
   ]
  },
  {
   "cell_type": "markdown",
   "metadata": {},
   "source": [
    "There is no missing data in the scada dataset"
   ]
  },
  {
   "cell_type": "markdown",
   "metadata": {},
   "source": [
    "#### *Status Dataset*"
   ]
  },
  {
   "cell_type": "markdown",
   "metadata": {},
   "source": [
    "##### *Shape of the dataset*"
   ]
  },
  {
   "cell_type": "code",
   "execution_count": 20,
   "metadata": {},
   "outputs": [
    {
     "data": {
      "text/plain": [
       "(1849, 9)"
      ]
     },
     "execution_count": 20,
     "metadata": {},
     "output_type": "execute_result"
    }
   ],
   "source": [
    "status_df.shape"
   ]
  },
  {
   "cell_type": "markdown",
   "metadata": {},
   "source": [
    "The status dataset has:\n",
    "\n",
    "- 9 columns\n",
    "- 1,849 rows of information"
   ]
  },
  {
   "cell_type": "markdown",
   "metadata": {},
   "source": [
    "##### *Column types*"
   ]
  },
  {
   "cell_type": "code",
   "execution_count": 23,
   "metadata": {},
   "outputs": [
    {
     "name": "stdout",
     "output_type": "stream",
     "text": [
      "<class 'pandas.core.frame.DataFrame'>\n",
      "RangeIndex: 1849 entries, 0 to 1848\n",
      "Data columns (total 9 columns):\n",
      " #   Column       Non-Null Count  Dtype  \n",
      "---  ------       --------------  -----  \n",
      " 0   Time         1849 non-null   object \n",
      " 1   Main Status  1849 non-null   int64  \n",
      " 2   Sub Status   1849 non-null   int64  \n",
      " 3   Full Status  1849 non-null   object \n",
      " 4   Status Text  1849 non-null   object \n",
      " 5   T            1849 non-null   int64  \n",
      " 6   Service      1849 non-null   bool   \n",
      " 7   FaultMsg     1849 non-null   bool   \n",
      " 8   Value0       1849 non-null   float64\n",
      "dtypes: bool(2), float64(1), int64(3), object(3)\n",
      "memory usage: 104.9+ KB\n"
     ]
    }
   ],
   "source": [
    "status_df.info()"
   ]
  },
  {
   "cell_type": "markdown",
   "metadata": {},
   "source": [
    "The \"Time\" column will need to be converted into an appropriate dtype."
   ]
  },
  {
   "cell_type": "markdown",
   "metadata": {},
   "source": [
    "##### *Any Duplicates?*"
   ]
  },
  {
   "cell_type": "code",
   "execution_count": 36,
   "metadata": {},
   "outputs": [
    {
     "data": {
      "text/plain": [
       "0"
      ]
     },
     "execution_count": 36,
     "metadata": {},
     "output_type": "execute_result"
    }
   ],
   "source": [
    "status_df.duplicated().sum()"
   ]
  },
  {
   "cell_type": "markdown",
   "metadata": {},
   "source": [
    "There is no duplicated data in our status dataset"
   ]
  },
  {
   "cell_type": "markdown",
   "metadata": {},
   "source": [
    "##### *Any Missing Data?*"
   ]
  },
  {
   "cell_type": "code",
   "execution_count": 35,
   "metadata": {},
   "outputs": [
    {
     "data": {
      "text/plain": [
       "Time           0\n",
       "Main Status    0\n",
       "Sub Status     0\n",
       "Full Status    0\n",
       "Status Text    0\n",
       "T              0\n",
       "Service        0\n",
       "FaultMsg       0\n",
       "Value0         0\n",
       "dtype: int64"
      ]
     },
     "execution_count": 35,
     "metadata": {},
     "output_type": "execute_result"
    }
   ],
   "source": [
    "status_df.isna().sum()"
   ]
  },
  {
   "cell_type": "markdown",
   "metadata": {},
   "source": [
    "There is no missing data in our status dataset"
   ]
  },
  {
   "cell_type": "markdown",
   "metadata": {},
   "source": []
  }
 ],
 "metadata": {
  "kernelspec": {
   "display_name": "Python (fu24_block2_team3_env)",
   "language": "python",
   "name": "fu24_block2_team3_env"
  },
  "language_info": {
   "codemirror_mode": {
    "name": "ipython",
    "version": 3
   },
   "file_extension": ".py",
   "mimetype": "text/x-python",
   "name": "python",
   "nbconvert_exporter": "python",
   "pygments_lexer": "ipython3",
   "version": "3.11.10"
  }
 },
 "nbformat": 4,
 "nbformat_minor": 2
}
